{
  "nbformat": 4,
  "nbformat_minor": 0,
  "metadata": {
    "colab": {
      "provenance": []
    },
    "kernelspec": {
      "name": "python3",
      "display_name": "Python 3"
    },
    "language_info": {
      "name": "python"
    }
  },
  "cells": [
    {
      "cell_type": "markdown",
      "source": [
        "#Numpy Library in Python\n",
        "\n",
        "###### NumPy is a Python library\n",
        "###### NumPy is used for working with arrays\n",
        "###### NumPy is shprt for \"Numerical Python\""
      ],
      "metadata": {
        "id": "KSZTAcJOUQP_"
      }
    },
    {
      "cell_type": "code",
      "execution_count": 1,
      "metadata": {
        "id": "SES4iv1dT3iM"
      },
      "outputs": [],
      "source": [
        "import numpy as np"
      ]
    },
    {
      "cell_type": "markdown",
      "source": [
        "Numpy is a Python library used for working with arrays.\n",
        "\n",
        "It also has functions for working in domain of linear algebra, forier transform, and matrices.\n",
        "\n",
        "NumPy was created in 2005 by Travis Oliphant. It is an open source project and you can use it freely.\n",
        "\n",
        "NumPy standas for Numerical Python\n",
        "\n",
        "# Why Use NumPy?\n",
        "\n",
        "In Python we have lists that serve the purpose of arraus, but they are slow to process.\n",
        "\n",
        "NumPy aims to provide an array object that is up to 50x faster than traditional Python lists.\n",
        "\n",
        "The array object in NumPy is called ndarrey, it provides a lot of supporting functions that make working with ndarray very easy.\n",
        "\n",
        "Arrays are very frequently used in data science, where speed and resources are very important.\n",
        "\n",
        "# Why is NumPy faster than lists?\n",
        "\n",
        "NumPy are stored at one continuous place in memory unlike lists, so proceses can access and manipulate them very efficiently.\n",
        "\n",
        "The behaviour is called lovality of reference in computer science.\n",
        "\n",
        "this is the main reason why NumPy is faster then lists. Also it is optimized to work with latest CPU architectures.\n",
        "\n",
        "# Which Languages is NumPy written is?\n",
        "\n",
        "NumPy is a Python library and is written partially in Python, but most of the parts that requeire fast computation are written in C or C++.\n",
        "\n",
        "# Create a NumPy ndarray Object"
      ],
      "metadata": {
        "id": "x0HwqafnVGLf"
      }
    },
    {
      "cell_type": "code",
      "source": [
        "arr = np.array([1,2,3,4])\n",
        "\n",
        "print(arr)\n",
        "\n",
        "print(type(arr))"
      ],
      "metadata": {
        "colab": {
          "base_uri": "https://localhost:8080/"
        },
        "id": "U-tMRSRzW0oC",
        "outputId": "6734f24b-dbba-4873-9c88-4857d60a3b92"
      },
      "execution_count": 3,
      "outputs": [
        {
          "output_type": "stream",
          "name": "stdout",
          "text": [
            "[1 2 3 4]\n",
            "<class 'numpy.ndarray'>\n"
          ]
        }
      ]
    },
    {
      "cell_type": "markdown",
      "source": [
        "#Dimensions in Arrays"
      ],
      "metadata": {
        "id": "x3AMBcU3XDtv"
      }
    },
    {
      "cell_type": "code",
      "source": [
        "#0-D Arrays\n",
        "arr0 = np.array(42)\n",
        "print(arr0)\n",
        "#1-D Array\n",
        "arr1 = np.array([42,43])\n",
        "print(arr1)\n",
        "#2-D Array\n",
        "arr2 = np.array([[1,2,3],[4,5,6]])\n",
        "print(arr2)\n",
        "#3-D Array\n",
        "arr3 = np.array([[[1, 2, 3], [4, 5, 6]], [[1, 2, 3], [4, 5, 6]]])\n",
        "print(arr3)"
      ],
      "metadata": {
        "colab": {
          "base_uri": "https://localhost:8080/"
        },
        "id": "i9L5BDU9XIQN",
        "outputId": "a09820fd-25b7-45dc-a490-4a10b801a487"
      },
      "execution_count": 6,
      "outputs": [
        {
          "output_type": "stream",
          "name": "stdout",
          "text": [
            "42\n",
            "[42 43]\n",
            "[[1 2 3]\n",
            " [4 5 6]]\n",
            "[[[1 2 3]\n",
            "  [4 5 6]]\n",
            "\n",
            " [[1 2 3]\n",
            "  [4 5 6]]]\n"
          ]
        }
      ]
    },
    {
      "cell_type": "markdown",
      "source": [
        "#Check Number of Dimensions\n",
        "\n",
        "NumPy Arrays provides the **ndim** attribute that returns an integer that tells us how many dimension the array have."
      ],
      "metadata": {
        "id": "4qQ-vDK3X7FE"
      }
    },
    {
      "cell_type": "code",
      "source": [
        "print(arr0.ndim)\n",
        "print(arr1.ndim)\n",
        "print(arr2.ndim)\n",
        "print(arr3.ndim)"
      ],
      "metadata": {
        "colab": {
          "base_uri": "https://localhost:8080/"
        },
        "id": "VtpTJ4AfYKYc",
        "outputId": "09d205b1-c2d0-454a-c835-b13b04c8b6cb"
      },
      "execution_count": 7,
      "outputs": [
        {
          "output_type": "stream",
          "name": "stdout",
          "text": [
            "0\n",
            "1\n",
            "2\n",
            "3\n"
          ]
        }
      ]
    },
    {
      "cell_type": "markdown",
      "source": [
        "# Higer Dimensional Arrays\n",
        "\n",
        "An arrays can have any number of dimensions.\n",
        "\n",
        "When the arrays is created, you can define the number of dimensions by using the **ndmin** argument."
      ],
      "metadata": {
        "id": "KJ2FkuEUYVJk"
      }
    },
    {
      "cell_type": "code",
      "source": [
        "arr = np.array([1,2,3,4], ndmin=5)\n",
        "print(arr)"
      ],
      "metadata": {
        "colab": {
          "base_uri": "https://localhost:8080/"
        },
        "id": "Q-0ZnUG0YUyR",
        "outputId": "610dfd3a-da4b-4ee4-88c5-164fabf59a5d"
      },
      "execution_count": 8,
      "outputs": [
        {
          "output_type": "stream",
          "name": "stdout",
          "text": [
            "[[[[[1 2 3 4]]]]]\n"
          ]
        }
      ]
    },
    {
      "cell_type": "markdown",
      "source": [
        "#Access Array Elements\n",
        "\n",
        "Array indexing is the same as accessing an array element.\n",
        "\n",
        "You can access an array element by refering to its index number\n",
        "\n",
        "The indexes in NumPy arrays star with 0, meaning that the first element has index 0, and the second has index 1 etc.\n",
        "\n",
        "#Negative Indexing\n",
        "\n",
        "Use negative indexing to access an array from the end"
      ],
      "metadata": {
        "id": "dwaTkSaeY9JO"
      }
    },
    {
      "cell_type": "code",
      "source": [
        "arr1 = np.array([1,2,3,4,5,6])\n",
        "arr2 = np.array([[1,2,3,4],[5,6,7,8]])\n",
        "\n",
        "print(arr1[0])\n",
        "print(arr1[2])\n",
        "print(arr2[1][1])\n",
        "print(arr2[1,2])\n",
        "print(arr1[-1])\n",
        "print(arr1[-2])\n",
        "print(arr2[-1,-1])"
      ],
      "metadata": {
        "colab": {
          "base_uri": "https://localhost:8080/"
        },
        "id": "kU4Eh2vTZqgo",
        "outputId": "0c1cfd71-6797-4333-94a8-0ae8311bf10e"
      },
      "execution_count": 16,
      "outputs": [
        {
          "output_type": "stream",
          "name": "stdout",
          "text": [
            "1\n",
            "3\n",
            "6\n",
            "7\n",
            "6\n",
            "5\n",
            "8\n"
          ]
        }
      ]
    },
    {
      "cell_type": "markdown",
      "source": [
        "#Slicing Arrays\n",
        "\n",
        "Slicing in python means taking elements from one given index to another given index.\n",
        "\n",
        "We pass slice instead of index like this **[start:end]**\n",
        "\n",
        "We can also define the step, like this **[start:end:step]**\n",
        "\n",
        "If we don't pass start its considered zero.\n",
        "\n",
        "If we don't pass end its considered length of array in that dimension.\n",
        "\n",
        "If we don't pass step its considered 1.\n",
        "\n",
        "**Note** The result includes the start index, but excludes the end index."
      ],
      "metadata": {
        "id": "kn6c96IFb56-"
      }
    },
    {
      "cell_type": "code",
      "source": [
        "arr = np.array([1,2,3,4,5,6,7,8,9])\n",
        "\n",
        "print(arr[:2])\n",
        "print(arr[2:5])\n",
        "print(arr[4:])\n",
        "print(arr[-3:-1])\n",
        "print(arr[0:8:2])\n"
      ],
      "metadata": {
        "colab": {
          "base_uri": "https://localhost:8080/"
        },
        "id": "uni0GvLfcaZR",
        "outputId": "6d467f2e-8338-4a44-ee80-ee7d9f70c0b6"
      },
      "execution_count": 22,
      "outputs": [
        {
          "output_type": "stream",
          "name": "stdout",
          "text": [
            "[1 2]\n",
            "[3 4 5]\n",
            "[5 6 7 8 9]\n",
            "[7 8]\n",
            "[1 3 5 7]\n"
          ]
        }
      ]
    },
    {
      "cell_type": "markdown",
      "source": [
        "#NumPy Data Types\n",
        "## Data Types in Python\n",
        "By default Python have these data types\n",
        "- **strings**:\n",
        "- **integer**\n",
        "- **float**\n",
        "- **boolean**\n",
        "- **complex**\n",
        "\n",
        "## Data Types in NumPy\n",
        "\n",
        "NumPy has some extra data types, and refer to data types with one character, like i for integers, u for unsigened integers etc.\n",
        "\n",
        "Bellor is a list of all data types in NumPy and the characters used to represent them.\n",
        "\n",
        "- **i** - integer\n",
        "- **b** - boolean\n",
        "- **u** - unsigned integer\n",
        "- **f** - float\n",
        "- **c** - complex float\n",
        "- **m** - timedelta\n",
        "- **M** - datetime\n",
        "- **O** - object\n",
        "- **S** - string\n",
        "- **U** - unicode string\n",
        "- **V** - fixed chunk of memory for other type (void)\n",
        "\n",
        "## Checking the Data Type of an Array\n",
        "\n",
        "The NumPy arrays object has a property called **dtype** that returns the data type of the array;\n",
        "\n",
        "## Creating Arrays With a Defined Data Type\n",
        "\n",
        "We use the **array()** function to create arrayes, this fuction can take an optional argument: dtype that allows us to difine the expected type of the array elements:\n",
        "\n",
        "#Converting Data Type on Existing Arrays\n",
        "\n",
        "The best way to change the data type of an existing array, is to make a copy of the array with the **astype()** method.\n",
        "\n",
        "The **astype()** function creates a copy of the array, and allows you to specify the data type as a parameter.\n",
        "\n",
        "The data type can be specified using, like 'f'for float 'i' for integer etc, or you can use the data type directly like float for float int for integer.\n",
        "\n"
      ],
      "metadata": {
        "id": "smrilZNQdHVa"
      }
    },
    {
      "cell_type": "code",
      "source": [
        "arr = np.array([1,2,3,4])\n",
        "\n",
        "print(arr.dtype)\n",
        "\n",
        "arr = np.array(['apple', 'strawberry', 'orange', 'grapes'])\n",
        "\n",
        "print(arr.dtype)\n",
        "\n",
        "arr = np.array(['apple', 'strawberry', 'orange', 'grapes'], dtype='S')\n",
        "\n",
        "print(arr.dtype)\n",
        "\n",
        "arr = np.array([1.1,2.2,3.3])\n",
        "\n",
        "print(arr.dtype)\n",
        "\n",
        "arr = arr.astype('i')\n",
        "\n",
        "print(arr)"
      ],
      "metadata": {
        "colab": {
          "base_uri": "https://localhost:8080/"
        },
        "id": "xXimtpckfg2M",
        "outputId": "b0e8379f-22d2-4650-f547-b0c854a75093"
      },
      "execution_count": 33,
      "outputs": [
        {
          "output_type": "stream",
          "name": "stdout",
          "text": [
            "int64\n",
            "<U10\n",
            "|S10\n",
            "float64\n",
            "[1 2 3]\n"
          ]
        }
      ]
    },
    {
      "cell_type": "markdown",
      "source": [
        "#The Difference Between COPY and VIEW\n",
        "\n",
        "The main difference between a copy and a view of an array is that the copy is a new arays, and the view is just a view of the original arrays.\n",
        "\n",
        "The copy owns the data and any changes made to the copy will not affect original array, and any changes made to the original array will not affect the copy.\n",
        "\n",
        "The view does not own the data and any changes made to the view will affect the original aray, and any changes made to the original array will affect the view."
      ],
      "metadata": {
        "id": "dHL71UGtiHkw"
      }
    },
    {
      "cell_type": "code",
      "source": [
        "arr = np.array([1,2,3,4,5,6])\n",
        "#COPY\n",
        "x = arr.copy()\n",
        "print(x)\n",
        "y = arr.view()\n",
        "print(y)\n",
        "\n",
        "x[0]=9\n",
        "\n",
        "print(x)\n",
        "print(arr)\n",
        "\n",
        "y[0]=9\n",
        "\n",
        "print(y)\n",
        "print(arr)"
      ],
      "metadata": {
        "colab": {
          "base_uri": "https://localhost:8080/"
        },
        "id": "tsyYx6MSmPL-",
        "outputId": "ae40cf94-7434-41b1-9670-b012d07cb9ad"
      },
      "execution_count": 36,
      "outputs": [
        {
          "output_type": "stream",
          "name": "stdout",
          "text": [
            "[1 2 3 4 5 6]\n",
            "[1 2 3 4 5 6]\n",
            "[9 2 3 4 5 6]\n",
            "[1 2 3 4 5 6]\n",
            "[9 2 3 4 5 6]\n",
            "[9 2 3 4 5 6]\n"
          ]
        }
      ]
    },
    {
      "cell_type": "markdown",
      "source": [
        "#Shape of an arrray\n",
        "\n",
        "The shape of an array is the number of elements in each dimension\n",
        "\n",
        "## Get the shape of ans Array\n",
        "\n",
        "NumPy arrays have an attribute called **shape** that returns a tuple with index having the number of corresponding elements.\n",
        "\n",
        "## NumPy Array Reshaping\n",
        "\n",
        "Reshaping means changing the shape of an array.\n",
        "\n",
        "The shape of an array is the number of elements in each dimension.\n",
        "\n",
        "By representing we can add or remove dimensions or change number of elements in each dimension.\n",
        "\n",
        "## Flattening the arrays\n",
        "\n",
        "Flattening array mean converting a multidimensional array into a 1D array\n",
        "\n",
        "We can use the **reshape(-1)** to do this"
      ],
      "metadata": {
        "id": "EF4L6OnZmuos"
      }
    },
    {
      "cell_type": "code",
      "source": [
        "arr = np.array([[1,2,3,4],[5,6,7,8]])\n",
        "\n",
        "print(arr.shape)\n",
        "\n",
        "arr = np.array([1, 2, 3, 4, 5, 6, 7, 8, 9, 10, 11, 12])\n",
        "\n",
        "newarr = arr.reshape(3, 4)\n",
        "\n",
        "print(newarr)\n",
        "\n",
        "newarr = arr.reshape(2,3,2)\n",
        "\n",
        "print(newarr)\n",
        "\n",
        "arr = np.array([[1, 2, 3], [4, 5, 6]])\n",
        "\n",
        "newarr = arr.reshape(-1)\n",
        "\n",
        "print(newarr)"
      ],
      "metadata": {
        "colab": {
          "base_uri": "https://localhost:8080/"
        },
        "id": "R980xI3jmuU_",
        "outputId": "f9710735-3b47-4b64-99ab-936d312bcaf7"
      },
      "execution_count": 48,
      "outputs": [
        {
          "output_type": "stream",
          "name": "stdout",
          "text": [
            "(2, 4)\n",
            "[[ 1  2  3  4]\n",
            " [ 5  6  7  8]\n",
            " [ 9 10 11 12]]\n",
            "[[[ 1  2]\n",
            "  [ 3  4]\n",
            "  [ 5  6]]\n",
            "\n",
            " [[ 7  8]\n",
            "  [ 9 10]\n",
            "  [11 12]]]\n",
            "[1 2 3 4 5 6]\n"
          ]
        }
      ]
    },
    {
      "cell_type": "markdown",
      "source": [
        "#NumPy Array Iterating\n",
        "\n",
        "## Iteratins Arrays\n",
        "\n",
        "Iterating means going through elements one by one.\n",
        "\n",
        "As we deal with multi-dimensional arrays in numpy, we can do this using asic for loop of python.\n",
        "\n",
        "If we iterate on a 1-D array it will go thorugh each element one by one.\n",
        "\n",
        "## Iterating through 2-D Arrays\n",
        "\n",
        "In a 2-D array it will go through all the rows.\n",
        "\n"
      ],
      "metadata": {
        "id": "k9QXxk6pt3vd"
      }
    },
    {
      "cell_type": "code",
      "source": [
        "arr = np.array([1,2,3,4,5,6])\n",
        "\n",
        "for i in arr:\n",
        "  print(i)\n",
        "\n",
        "arr = np.array([[1,2,3,4],[5,6,7,8]])\n",
        "\n",
        "for j in arr:\n",
        "  for i in j:\n",
        "    print(i)"
      ],
      "metadata": {
        "colab": {
          "base_uri": "https://localhost:8080/"
        },
        "id": "FdtgF_G_uapO",
        "outputId": "12e9649a-f925-4d5a-dd24-918835420476"
      },
      "execution_count": 53,
      "outputs": [
        {
          "output_type": "stream",
          "name": "stdout",
          "text": [
            "1\n",
            "2\n",
            "3\n",
            "4\n",
            "5\n",
            "6\n",
            "1\n",
            "2\n",
            "3\n",
            "4\n",
            "5\n",
            "6\n",
            "7\n",
            "8\n"
          ]
        }
      ]
    },
    {
      "cell_type": "markdown",
      "source": [
        "## Iterating Arrays Using nditer()\n",
        "\n",
        "The function **nditer()** is a helping function that can be used from a very advnced iterations. It solves some basics issues which we face in iteration, lets go through it with examples.\n",
        "\n"
      ],
      "metadata": {
        "id": "6FB3awbgvVeL"
      }
    },
    {
      "cell_type": "code",
      "source": [
        "arr = np.array([[[1, 2], [3, 4]], [[5, 6], [7, 8]]])\n",
        "\n",
        "for x in np.nditer(arr):\n",
        "  print(x)"
      ],
      "metadata": {
        "colab": {
          "base_uri": "https://localhost:8080/"
        },
        "id": "_LgQrq6Rw4Ko",
        "outputId": "4e5dd218-9f30-4838-b9d7-9e0c761ab248"
      },
      "execution_count": 54,
      "outputs": [
        {
          "output_type": "stream",
          "name": "stdout",
          "text": [
            "1\n",
            "2\n",
            "3\n",
            "4\n",
            "5\n",
            "6\n",
            "7\n",
            "8\n"
          ]
        }
      ]
    },
    {
      "cell_type": "markdown",
      "source": [
        "#NumPy Joining Arrays\n"
      ],
      "metadata": {
        "id": "MH7kOhcFxi9I"
      }
    },
    {
      "cell_type": "markdown",
      "source": [
        "## Joining NumPy Arrays\n",
        "\n",
        "Joining means putting contents of two or more arrays in a singles array.\n",
        "\n",
        "In SQL we join tables based on a key, whereas in NumPy we join arrays by axes.\n",
        "\n",
        "We pass a sequence of arrays that we want to join to the **concatenate()** function, along with the axes. If axes is not explicitly passed, it is taken as 0."
      ],
      "metadata": {
        "id": "JDZF5AuSxqhf"
      }
    },
    {
      "cell_type": "code",
      "source": [
        "arr1 = np.array([1,2,3,4,5])\n",
        "arr2 = np.array([4,5,6])\n",
        "\n",
        "newarr = np.concatenate((arr1, arr2))\n",
        "\n",
        "print(newarr)\n",
        "\n",
        "\n",
        "arr1 = np.array([[1,2],[3,4]])\n",
        "arr2 = np.array([[5,6],[7,8]])\n",
        "\n",
        "newarr = np.concatenate((arr1, arr2), axis=1)\n",
        "\n",
        "print(newarr)\n"
      ],
      "metadata": {
        "colab": {
          "base_uri": "https://localhost:8080/"
        },
        "id": "w7YWRoshyJhd",
        "outputId": "675fdee8-e962-4531-a35b-7e396ee13efb"
      },
      "execution_count": 62,
      "outputs": [
        {
          "output_type": "stream",
          "name": "stdout",
          "text": [
            "[1 2 3 4 5 4 5 6]\n",
            "[[1 2 5 6]\n",
            " [3 4 7 8]]\n"
          ]
        }
      ]
    },
    {
      "cell_type": "markdown",
      "source": [
        "# NumPy Splitting Array"
      ],
      "metadata": {
        "id": "OXj03kyazVYq"
      }
    },
    {
      "cell_type": "markdown",
      "source": [
        "## Splitting NumPy Arrays\n",
        "\n",
        "Splitting is reverse operations of Joining.\n",
        "\n",
        "Joining merges multiple arrays into one and Splitting breaks one array into multiple.\n",
        "\n",
        "We use **array_split()** for splitting arrays, we pass it the array we want to split and the number of splits."
      ],
      "metadata": {
        "id": "yB845CGBzZJI"
      }
    },
    {
      "cell_type": "markdown",
      "source": [
        "## Splitting 2-D Arrays\n",
        "\n",
        "use the same syntax when splitting 2-D arrays"
      ],
      "metadata": {
        "id": "IxiFmTSz0LQB"
      }
    },
    {
      "cell_type": "code",
      "source": [
        "arr = np.array([1,2,3,4,5,6,7])\n",
        "\n",
        "newarr = np.array_split(arr, 3)\n",
        "\n",
        "print(newarr)\n",
        "\n",
        "arr = np.array([[1, 2], [3, 4], [5, 6], [7, 8], [9, 10], [11, 12]])\n",
        "\n",
        "print(arr)\n",
        "\n",
        "newarr = np.array_split(arr,4)\n",
        "print()\n",
        "print(newarr[0])\n",
        "print()\n",
        "print(newarr[1])\n",
        "print()\n",
        "print(newarr[2])\n",
        "print()\n",
        "print(newarr[3])"
      ],
      "metadata": {
        "colab": {
          "base_uri": "https://localhost:8080/"
        },
        "id": "W5EiLcL3ztGB",
        "outputId": "7ab7d264-6f10-42ee-abf8-22190ea5bc4b"
      },
      "execution_count": 72,
      "outputs": [
        {
          "output_type": "stream",
          "name": "stdout",
          "text": [
            "[array([1, 2, 3]), array([4, 5]), array([6, 7])]\n",
            "[[ 1  2]\n",
            " [ 3  4]\n",
            " [ 5  6]\n",
            " [ 7  8]\n",
            " [ 9 10]\n",
            " [11 12]]\n",
            "\n",
            "[[1 2]\n",
            " [3 4]]\n",
            "\n",
            "[[5 6]\n",
            " [7 8]]\n",
            "\n",
            "[[ 9 10]]\n",
            "\n",
            "[[11 12]]\n"
          ]
        }
      ]
    },
    {
      "cell_type": "markdown",
      "source": [
        "#NumPy Searching Arrays"
      ],
      "metadata": {
        "id": "4G1iA8Bx1GBx"
      }
    },
    {
      "cell_type": "markdown",
      "source": [
        "## Searching Arrays\n",
        "\n",
        "You can search an array for certaing value, and return the indexes that get a match.\n",
        "\n",
        "To seach an array, we use the where() method."
      ],
      "metadata": {
        "id": "XTv6PQjU1JBn"
      }
    },
    {
      "cell_type": "code",
      "source": [
        "x = np.array([1,2,3,4,5,6,4,4,5,8,9,4,4,8,9,7,5,6,4,5])\n",
        "\n",
        "newx = np.where(x==4) #Retorna uma array com os índices onde possuem o valor 4\n",
        "\n",
        "print(newx)"
      ],
      "metadata": {
        "colab": {
          "base_uri": "https://localhost:8080/"
        },
        "id": "QRk8J8Si1vLG",
        "outputId": "536e14bb-469f-47ad-ac45-7a066cee66b3"
      },
      "execution_count": 74,
      "outputs": [
        {
          "output_type": "stream",
          "name": "stdout",
          "text": [
            "(array([ 3,  6,  7, 11, 12, 18]),)\n"
          ]
        }
      ]
    },
    {
      "cell_type": "markdown",
      "source": [
        "#NumPy Sorting Arrays"
      ],
      "metadata": {
        "id": "6gkrt7m22aLx"
      }
    },
    {
      "cell_type": "markdown",
      "source": [
        "## Sorting Arrays\n",
        "\n",
        "Sorting means putting elements in an ordered sequence.\n",
        "\n",
        "Ordered sequence is any sequence that has an order corrresponding to elements, like numeric or alphabetical, ascending or descending .\n",
        "\n",
        "The NumPy ndarray object has a function called **sort()**, that will sort a specified array.\n",
        "\n",
        "**Note:** This method returns a copy of the array, leaving the original array unchanged.\n",
        "\n",
        "## Sorting 2-D Arrays\n",
        "\n",
        "if you use the sort() method on a 2-D array, both arrays will be sorted.\n"
      ],
      "metadata": {
        "id": "v7_2NnkV2cb_"
      }
    },
    {
      "cell_type": "code",
      "source": [
        "arr = np.array([3,2,0,1])\n",
        "\n",
        "print(np.sort(arr))\n",
        "\n",
        "arr = np.array([ 'passionfruit', 'banana', 'apple' , 'grapes'])\n",
        "\n",
        "print(np.sort(arr))\n",
        "\n",
        "arr = np.array([[4,1,8,9],[4,8,2,9]])\n",
        "\n",
        "print(np.sort(arr))"
      ],
      "metadata": {
        "colab": {
          "base_uri": "https://localhost:8080/"
        },
        "id": "W71PpUQ82_ri",
        "outputId": "452dcd87-b20d-4173-983d-adf3705a0915"
      },
      "execution_count": 77,
      "outputs": [
        {
          "output_type": "stream",
          "name": "stdout",
          "text": [
            "[0 1 2 3]\n",
            "['apple' 'banana' 'grapes' 'passionfruit']\n",
            "[[1 4 8 9]\n",
            " [2 4 8 9]]\n"
          ]
        }
      ]
    },
    {
      "cell_type": "markdown",
      "source": [
        "# NumPy Filter Array"
      ],
      "metadata": {
        "id": "zPweeGh94AtZ"
      }
    },
    {
      "cell_type": "markdown",
      "source": [
        "## Filtering Arrays\n",
        "\n",
        "Getting some elements out of an existing arrays and creating a new array out of them is called filtering.\n",
        "\n",
        "In NumPy, you can filter an array using a boolean index list."
      ],
      "metadata": {
        "id": "rAYBOhoL4DgK"
      }
    },
    {
      "cell_type": "code",
      "source": [
        "arr = np.array([42,43,44,45])\n",
        "\n",
        "x = [True, False, True, False]\n",
        "\n",
        "newarr = arr[x]\n",
        "\n",
        "print(newarr)\n",
        "\n",
        "arr = np.array([1,2,3,4,5,6,7])\n",
        "\n",
        "filter_arr = arr % 2 == 0\n",
        "\n",
        "print(filter_arr)"
      ],
      "metadata": {
        "colab": {
          "base_uri": "https://localhost:8080/",
          "height": 106
        },
        "id": "96X0GDb44PvF",
        "outputId": "bd456cf4-4aba-44b2-ee93-00b406022363"
      },
      "execution_count": 80,
      "outputs": [
        {
          "output_type": "error",
          "ename": "SyntaxError",
          "evalue": "invalid syntax (<ipython-input-80-0cb2f6a6b830>, line 11)",
          "traceback": [
            "\u001b[0;36m  File \u001b[0;32m\"<ipython-input-80-0cb2f6a6b830>\"\u001b[0;36m, line \u001b[0;32m11\u001b[0m\n\u001b[0;31m    filter_arr = if arr % 2 == 0:\u001b[0m\n\u001b[0m                 ^\u001b[0m\n\u001b[0;31mSyntaxError\u001b[0m\u001b[0;31m:\u001b[0m invalid syntax\n"
          ]
        }
      ]
    }
  ]
}